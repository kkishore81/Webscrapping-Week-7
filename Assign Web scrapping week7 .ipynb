{
 "cells": [
  {
   "cell_type": "code",
   "execution_count": null,
   "id": "6b586475-aa65-4220-af0b-12ae6dd658fc",
   "metadata": {},
   "outputs": [],
   "source": [
    "# Q1. What is Web Scraping? Why is it Used? Give three areas where Web Scraping is used to get data."
   ]
  },
  {
   "cell_type": "code",
   "execution_count": 1,
   "id": "dbc67e41-0957-474b-9639-103c86619898",
   "metadata": {},
   "outputs": [],
   "source": [
    "# Web scraping is the process of extracting data from websites. It is used to collect information that is not available through other means, such as APIs or public datasets.\n",
    "# Web scraping allows users to gather large amounts of data from various websites efficiently and quickly.\n",
    " #Three areas where web Scraping can be used are E commerce, social media monitering and financial research"
   ]
  },
  {
   "cell_type": "code",
   "execution_count": null,
   "id": "0bdc9f7d-3558-493e-bccb-8a17737c6781",
   "metadata": {},
   "outputs": [],
   "source": [
    "Q2. What are the different methods used for Web Scraping?"
   ]
  },
  {
   "cell_type": "code",
   "execution_count": null,
   "id": "2dc17440-ef81-40be-ae1a-f338e29fcc59",
   "metadata": {},
   "outputs": [],
   "source": [
    "Different methods for web scraping are Manula Scraping, API Scrapping , Scripting scraping\n",
    "HTML parsing with libraries like BeautifulSoup, XPath or CSS selectors."
   ]
  },
  {
   "cell_type": "code",
   "execution_count": null,
   "id": "e5554a7c-45af-4bcf-bf47-31041ee08b5c",
   "metadata": {},
   "outputs": [],
   "source": [
    "# Q3. What is Beautiful Soup? Why is it used?\n",
    "\n"
   ]
  },
  {
   "cell_type": "code",
   "execution_count": null,
   "id": "8432ae57-7197-4a20-8cf0-e2f6b9b3c657",
   "metadata": {},
   "outputs": [],
   "source": [
    "# Beautiful Soup is a Python library used for parsing and navigating HTML or XML documents.\n",
    "# It provides convenient methods to extract specific data elements from web pages, making web scraping tasks easier.\n",
    "# Beautiful Soup is used for web scraping to locate and extract desired information from the complex structure of HTML or XML documents."
   ]
  },
  {
   "cell_type": "code",
   "execution_count": null,
   "id": "3024f984-7a9e-4091-b6a0-6cabb8b5ed86",
   "metadata": {},
   "outputs": [],
   "source": [
    "# Q4. Why is flask used in this Web Scraping project?"
   ]
  },
  {
   "cell_type": "code",
   "execution_count": 3,
   "id": "e17f21cb-9468-4751-93db-c028b7b81233",
   "metadata": {},
   "outputs": [],
   "source": [
    "# Flask is used in this web scraping project for its lightweight and flexible web framework, facilitating the development of a user interface and handling requests. \n",
    "# It enables the seamless integration of scraped data into web pages and the creation of APIs for easy data consumption by other applications or users."
   ]
  },
  {
   "cell_type": "code",
   "execution_count": null,
   "id": "865edfa2-7d52-4a4f-a42e-fcc979891ded",
   "metadata": {},
   "outputs": [],
   "source": [
    "# Q5. Write the names of AWS services used in this project. Also, explain the use of each service."
   ]
  },
  {
   "cell_type": "code",
   "execution_count": null,
   "id": "6d4d2c8a-652f-4655-a2f0-1da2730536b2",
   "metadata": {},
   "outputs": [],
   "source": [
    "#Code pipeline and Bean stack werw used in this project.\n",
    "#AWS CodePipeline: AWS CodePipeline is a fully managed continuous integration and continuous delivery (CI/CD) service.\n",
    "#It helps you automate the software release process by creating a pipeline that orchestrates the build, test, and deployment stages of the  application.\n",
    "#AWS Elastic Beanstalk: AWS Elastic Beanstalk is a fully managed service that simplifies the deployment and management of applications in the cloud."
   ]
  },
  {
   "cell_type": "code",
   "execution_count": null,
   "id": "a6ab44cf-bf37-4377-9612-4c70705bffe6",
   "metadata": {},
   "outputs": [],
   "source": []
  },
  {
   "cell_type": "code",
   "execution_count": null,
   "id": "27e1ebd0-b233-4563-a74f-88faba312ff1",
   "metadata": {},
   "outputs": [],
   "source": []
  }
 ],
 "metadata": {
  "kernelspec": {
   "display_name": "Python 3 (ipykernel)",
   "language": "python",
   "name": "python3"
  },
  "language_info": {
   "codemirror_mode": {
    "name": "ipython",
    "version": 3
   },
   "file_extension": ".py",
   "mimetype": "text/x-python",
   "name": "python",
   "nbconvert_exporter": "python",
   "pygments_lexer": "ipython3",
   "version": "3.10.8"
  }
 },
 "nbformat": 4,
 "nbformat_minor": 5
}
